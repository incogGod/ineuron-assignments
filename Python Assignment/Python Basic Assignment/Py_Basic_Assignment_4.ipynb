{
  "nbformat": 4,
  "nbformat_minor": 0,
  "metadata": {
    "colab": {
      "name": "Py Basic Assignment_4.ipynb",
      "provenance": []
    },
    "kernelspec": {
      "name": "python3",
      "display_name": "Python 3"
    },
    "language_info": {
      "name": "python"
    }
  },
  "cells": [
    {
      "cell_type": "markdown",
      "metadata": {
        "id": "aMw9cOsX3sdX"
      },
      "source": [
        "### 1. What exactly is []?\n",
        "A: It is a list. (empty list)"
      ]
    },
    {
      "cell_type": "markdown",
      "metadata": {
        "id": "eyDuEeq44UBa"
      },
      "source": [
        "### 2. In a list of values stored in a variable called spam, how would you assign the value 'hello' as the third value? (Assume [2, 4, 6, 8, 10] are in spam.)\n",
        "A: spam.insert(2,'hello')"
      ]
    },
    {
      "cell_type": "markdown",
      "metadata": {
        "id": "bwpNDhjS6wmA"
      },
      "source": [
        "### Let's pretend the spam includes the list ['a','b','c','d'] for the next three queries.\n",
        "### 3. What is the value of spam[int(int('3' * 2) / 11)]?\n",
        "A : 'd'\n",
        "### 4. What is the value of spam[-1]?\n",
        "A : 'd'\n",
        "### 5. What is the value of spam[:2]?\n",
        "A : ['a', 'b']"
      ]
    },
    {
      "cell_type": "markdown",
      "metadata": {
        "id": "wK8ZH7_vCILF"
      },
      "source": [
        "### Let's pretend bacon has the list [3.14,'cat',11, 'cat', True] for the next three questions.\n",
        "### 6. What is the value of bacon.index('cat')?\n",
        "A : 1\n",
        "### 7. How does bacon.append(99) change the look of the list value in bacon?\n",
        "A : [3.14,'cat',11, 'cat', True,99]\n",
        "### 8. How does bacon.remove('cat') change the look of the list in bacon?\n",
        "A : [3.14, 11, 'cat', True]"
      ]
    },
    {
      "cell_type": "markdown",
      "metadata": {
        "id": "Tc4nHx4EDKlg"
      },
      "source": [
        "### 9. What are the list concatenation and list replication operators?\n",
        "The operator for list concatenation is +, while the operator for replication is *."
      ]
    },
    {
      "cell_type": "markdown",
      "metadata": {
        "id": "g5WUMj6TEEAU"
      },
      "source": [
        "### 10. What is difference between the list methods append() and insert()?\n",
        "A : append can be used to add a value to the last postion where as in insert we can specify the index of the element to be added."
      ]
    },
    {
      "cell_type": "markdown",
      "metadata": {
        "id": "Bioxt3PsEaKc"
      },
      "source": [
        "### 11. What are the two methods for removing items from a list?\n",
        "A : \n",
        "1. Using .remove() give value inside parantheses  \n",
        "2. Using .pop() give index inside parantheses "
      ]
    },
    {
      "cell_type": "markdown",
      "metadata": {
        "id": "xu4zR6VdFglM"
      },
      "source": [
        "### 12. Describe how list values and string values are identical.\n",
        "Lists are similar to strings, which are ordered collections of characters, other is composed of elements.\n",
        "Indexing is applicable to both of them\n",
        "List elements are inside [], string elements are inside ''\n"
      ]
    },
    {
      "cell_type": "markdown",
      "metadata": {
        "id": "9C9H7faDQP7k"
      },
      "source": [
        "### 13. What's the difference between tuples and lists?\n",
        "A : List is mutable, tuple is not. "
      ]
    },
    {
      "cell_type": "markdown",
      "metadata": {
        "id": "8AxQdlhfQmYa"
      },
      "source": [
        "### 14. How do you type a tuple value that only contains the integer 42?\n",
        "A : (42,)"
      ]
    },
    {
      "cell_type": "markdown",
      "metadata": {
        "id": "uYdHqB8dSWLY"
      },
      "source": [
        "### 15. How do you get a list value's tuple form? How do you get a tuple value's list form?\n",
        "A : By converting using keywords list and tuple\n",
        "\n",
        "```\n",
        "a = [42,23]\n",
        "a = tuple(a) # List to tuple\n",
        "\n",
        "a = (42,23)\n",
        "a = list(a) # Tuple to list\n",
        "```\n",
        "\n",
        "\n"
      ]
    },
    {
      "cell_type": "markdown",
      "metadata": {
        "id": "kgy9i6PtahBS"
      },
      "source": [
        "### 16. Variables that contain list values are not necessarily lists themselves Instead, what do they contain?\n",
        "A : integer,string,float,boolean etc."
      ]
    },
    {
      "cell_type": "markdown",
      "metadata": {
        "id": "7v64DJ31bGw3"
      },
      "source": [
        "### 17. How do you distinguish between copy.copy() and copy.deepcopy()?\n",
        "A : In nested sub lists change in elements made in original list will be reflected in shallow copy. Where in deep copy it won't be reflected."
      ]
    }
  ]
}