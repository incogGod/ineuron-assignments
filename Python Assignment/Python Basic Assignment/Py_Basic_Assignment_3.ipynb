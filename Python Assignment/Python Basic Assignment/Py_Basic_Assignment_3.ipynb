{
  "nbformat": 4,
  "nbformat_minor": 0,
  "metadata": {
    "colab": {
      "name": "Py Basic Assignment_3.ipynb",
      "provenance": []
    },
    "kernelspec": {
      "name": "python3",
      "display_name": "Python 3"
    },
    "language_info": {
      "name": "python"
    }
  },
  "cells": [
    {
      "cell_type": "markdown",
      "metadata": {
        "id": "C3M6-DjuhKy2"
      },
      "source": [
        "\n",
        "### 1. Why are functions advantageous to have in your programs?\n",
        "\n",
        "  A : They can be used to avoid repition of code.\n"
      ]
    },
    {
      "cell_type": "markdown",
      "metadata": {
        "id": "JVNxZYUDlKTr"
      },
      "source": [
        "### 2. When does the code in a function run: when it's specified or when it's called?\n",
        "\n",
        "A: A function runs only when it is called. Not when it is specified."
      ]
    },
    {
      "cell_type": "markdown",
      "metadata": {
        "id": "-VYGzKRGl1H3"
      },
      "source": [
        "### 3. What statement creates a function?\n",
        "A: *def* is the keyword used to create a function.\n",
        "\n",
        "Eg: \n",
        "```\n",
        "def functionName():\n",
        "```\n",
        "\n"
      ]
    },
    {
      "cell_type": "markdown",
      "metadata": {
        "id": "tyIv0QyShW3A"
      },
      "source": [
        "### 4. What is the difference between a function and a function call?\n",
        "A:  A function is a set of instruction defined by a function name, the code in the function won't be exeucted unless it is called. Where as a function call is the process of making use of the defined code.\n",
        "\n",
        "\n",
        "```\n",
        "# Definig a function\n",
        "def functionName(a,b):\n",
        "  #code\n",
        "\n",
        "# Calling the function\n",
        "functionName(a,b)\n",
        "```\n",
        "\n"
      ]
    },
    {
      "cell_type": "markdown",
      "metadata": {
        "id": "9W5hW_M3p4fk"
      },
      "source": [
        "### 5. How many global scopes are there in a Python program? How many local scopes?\n",
        "A: One each. There are 4 types of scopes in python. Local, global,built-in and non-local or elclosing."
      ]
    },
    {
      "cell_type": "markdown",
      "metadata": {
        "id": "qIiv7AZZsulB"
      },
      "source": [
        "### 6. What happens to variables in a local scope when the function call returns?\n",
        "A: It will become undefined. "
      ]
    },
    {
      "cell_type": "markdown",
      "metadata": {
        "id": "jJWW6QmjwlrH"
      },
      "source": [
        "### 7. What is the concept of a return value? Is it possible to have a return value in an expression?\n",
        "A return is a value that a function returns to the calling script or function when it completes its task.  Yes it is possible."
      ]
    },
    {
      "cell_type": "markdown",
      "metadata": {
        "id": "mNxdXTI8yN6l"
      },
      "source": [
        "\n",
        "### 8. If a function does not have a return statement, what is the return value of a call to that function?\n",
        "It won't retun any value. (None)\n",
        "\n",
        "\n"
      ]
    },
    {
      "cell_type": "markdown",
      "metadata": {
        "id": "ZLy_FC0I0CRe"
      },
      "source": [
        "### 9. How do you make a function variable refer to the global variable?\n",
        "A: Using the keyword *global*"
      ]
    },
    {
      "cell_type": "markdown",
      "metadata": {
        "id": "Tqo3c9tY0Nt0"
      },
      "source": [
        "### 10. What is the data type of None?\n",
        "A: NoneType"
      ]
    },
    {
      "cell_type": "markdown",
      "metadata": {
        "id": "tfAGf6gy07wI"
      },
      "source": [
        "### 11. What does the sentence import areallyourpetsnamederic do?\n",
        "A: It tries to import the module of the above mentioned name, but fails as there is no module with that name.\n"
      ]
    },
    {
      "cell_type": "markdown",
      "metadata": {
        "id": "45YQ-X0W1alv"
      },
      "source": [
        "### 12. If you had a bacon() feature in a spam module, what would you call it after importing spam?\n",
        "A: spam.bacon()"
      ]
    },
    {
      "cell_type": "markdown",
      "metadata": {
        "id": "y9-NhYq81r7i"
      },
      "source": [
        "### 13. What can you do to save a programme from crashing if it encounters an error?\n",
        "A: We can use try(code here) and except(error message)."
      ]
    },
    {
      "cell_type": "markdown",
      "metadata": {
        "id": "teoKpibC2RQU"
      },
      "source": [
        "### 14. What is the purpose of the try clause? What is the purpose of the except clause?\n",
        "The try block is used to check some code for errors i.e the code inside the try block will execute when there is no error in the program. Whereas the code inside the except block will execute whenever the program encounters some error in the preceding try block."
      ]
    },
    {
      "cell_type": "markdown",
      "metadata": {
        "id": "tEAEiEac2iO8"
      },
      "source": [
        ""
      ]
    }
  ]
}