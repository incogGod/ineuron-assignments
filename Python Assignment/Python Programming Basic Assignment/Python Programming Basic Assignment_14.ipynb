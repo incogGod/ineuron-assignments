{
 "cells": [
  {
   "cell_type": "markdown",
   "metadata": {},
   "source": [
    "1. Given a list of numbers, create a function that removes 25% from every\n",
    "number in the list except the smallest number, and adds the total amount\n",
    "removed to the smallest number.\n",
    "Examples\n",
    "show_the_love([4, 1, 4]) ➞ [3, 3, 3]\n",
    "show_the_love([16, 10, 8]) ➞ [12, 7.5, 14.5]\n",
    "show_the_love([2, 100]) ➞ [27, 75]\n"
   ]
  },
  {
   "cell_type": "code",
   "execution_count": 16,
   "metadata": {},
   "outputs": [
    {
     "name": "stdout",
     "output_type": "stream",
     "text": [
      "[3.0, 3.0, 3.0]\n"
     ]
    }
   ],
   "source": [
    "def show(lst):\n",
    "    least = sorted(lst)[0]\n",
    "    index = lst.index(least)\n",
    "    for i in range(len(lst)):\n",
    "        if lst[i] != lst[index]:\n",
    "            lst[index] += (lst[i] * 0.25)\n",
    "            lst[i] = lst[i] * .75\n",
    "    return lst\n",
    "\n",
    "lst = [4, 1, 4]\n",
    "print(show(lst))\n",
    "    "
   ]
  },
  {
   "cell_type": "markdown",
   "metadata": {},
   "source": [
    "2. Create a function that takes in two words as input and returns a list of three\n",
    "elements, in the following order:\n",
    "1.Shared letters between two words.\n",
    "2.Letters unique to word 1.\n",
    "3.Letters unique to word 2.\n",
    "Each element should have unique letters, and have each letter be\n",
    "alphabetically sorted.\n",
    "Examples\n",
    "letters(&quot;sharp&quot;, &quot;soap&quot;) ➞ [&quot;aps&quot;, &quot;hr&quot;, &quot;o&quot;]\n",
    "letters(&quot;board&quot;, &quot;bored&quot;) ➞ [&quot;bdor&quot;, &quot;a&quot;, &quot;e&quot;]\n",
    "letters(&quot;happiness&quot;, &quot;envelope&quot;) ➞ [&quot;enp&quot;, &quot;ahis&quot;, &quot;lov&quot;]\n",
    "letters(&quot;kerfuffle&quot;, &quot;fluffy&quot;) ➞ [&quot;flu&quot;, &quot;ekr&quot;, &quot;y&quot;]\n",
    " Even with multiple matching letters (e.g. 3 f&#39;s), there should\n",
    " only exist a single &quot;f&quot; in your first element.\n",
    "letters(&quot;match&quot;, &quot;ham&quot;) ➞ [&quot;ahm&quot;, &quot;ct&quot;, &quot;&quot;]\n",
    " &quot;ham&quot; does not contain any letters that are not found already\n",
    " in &quot;match&quot;.\n"
   ]
  },
  {
   "cell_type": "code",
   "execution_count": 19,
   "metadata": {},
   "outputs": [
    {
     "name": "stdout",
     "output_type": "stream",
     "text": [
      "['ahm', 'ct', '']\n"
     ]
    }
   ],
   "source": [
    "def letters(a,b):\n",
    "    lsta = set([x for x in a])\n",
    "    lstb = set([x for x in b])\n",
    "    shared,u1,u2 = [],[],[]\n",
    "    for i in lsta:\n",
    "        if i in lstb:\n",
    "            shared.append(i)\n",
    "        else:\n",
    "            u1.append(i)\n",
    "    for i in lstb:\n",
    "        if i not in lsta:\n",
    "            u2.append(i)\n",
    "    return [''.join(sorted(shared)),''.join(sorted(u1)),''.join(sorted(u2))]\n",
    "\n",
    "a,b = 'match','ham'\n",
    "print(letters(a,b))"
   ]
  },
  {
   "cell_type": "markdown",
   "metadata": {},
   "source": [
    "3. Write a function that pairs the first number in an array with the last, the\n",
    "second number with the second to last, etc.\n",
    "Examples\n",
    "pairs([1, 2, 3, 4, 5, 6, 7]) ➞ [[1, 7], [2, 6], [3, 5], [4, 4]]\n",
    "\n",
    "pairs([1, 2, 3, 4, 5, 6]) ➞ [[1, 6], [2, 5], [3, 4]]\n",
    "pairs([5, 9, 8, 1, 2]) ➞ [[5, 2], [9, 1], [8, 8]]\n",
    "pairs([]) ➞ []\n"
   ]
  },
  {
   "cell_type": "code",
   "execution_count": 25,
   "metadata": {},
   "outputs": [
    {
     "name": "stdout",
     "output_type": "stream",
     "text": [
      "[[1, 7], [2, 6], [3, 5], [4, 4]]\n"
     ]
    }
   ],
   "source": [
    "def pairs(lst):\n",
    "    length = (len(lst))%2\n",
    "    arr = []\n",
    "    if length == 0:\n",
    "        for i in range(int(len(lst)/2)):\n",
    "            arr.append([lst[i],lst[0-i-1]])\n",
    "    else:\n",
    "        for i in range(int(len(lst)/2)+1):\n",
    "            arr.append([lst[i],lst[0-i-1]])\n",
    "    return arr\n",
    "\n",
    "lst = [1, 2, 3, 4, 5, 6, 7]\n",
    "print(pairs(lst))"
   ]
  },
  {
   "cell_type": "markdown",
   "metadata": {},
   "source": [
    "4. Write a function that adds two numbers. The catch, however, is that the\n",
    "numbers will be strings.\n",
    "Examples\n",
    "add_str_nums(&quot;4&quot;, &quot;5&quot;) ➞ &quot;9&quot;\n",
    "add_str_nums(&quot;abcdefg&quot;, &quot;3&quot;) ➞ &quot;-1&quot;\n",
    "add_str_nums(&quot;1&quot;, &quot;&quot;) ➞ &quot;1&quot;\n",
    "add_str_nums(&quot;1874682736267235927359283579235789257&quot;,\n",
    "&quot;32652983572985729&quot;) ➞ &quot;1874682736267235927391936562808774986&quot;\n"
   ]
  },
  {
   "cell_type": "code",
   "execution_count": 29,
   "metadata": {},
   "outputs": [
    {
     "name": "stdout",
     "output_type": "stream",
     "text": [
      "enter a:4\n",
      "enter b:5\n",
      "9\n"
     ]
    }
   ],
   "source": [
    "def add_str_nums(a,b):\n",
    "    try:\n",
    "        return str(int(a) + int(b))\n",
    "    except:\n",
    "        return '-1'\n",
    "a = input('enter a:')\n",
    "b = input('enter b:')\n",
    "print(add_str_nums(a,b))\n",
    "\n"
   ]
  },
  {
   "cell_type": "markdown",
   "metadata": {},
   "source": [
    "5. lPaeesh le pemu mnxit ehess rtnisg! Oh, sorry, that was supposed to say:\n",
    "Please help me unmix these strings!\n",
    "Somehow my strings have all become mixed up; every pair of characters has\n",
    "been swapped. Help me undo this so I can understand my strings again.\n",
    "Examples\n",
    "unmix(&quot;123456&quot;) ➞ &quot;214365&quot;\n",
    "unmix(&quot;hTsii s aimex dpus rtni.g&quot;) ➞ &quot;This is a mixed up string.&quot;\n",
    "unmix(&quot;badce&quot;) ➞ &quot;abcde&quot;"
   ]
  },
  {
   "cell_type": "code",
   "execution_count": 22,
   "metadata": {},
   "outputs": [
    {
     "name": "stdout",
     "output_type": "stream",
     "text": [
      "Please help me unmix these strings!\n"
     ]
    }
   ],
   "source": [
    "def unmix(s):\n",
    "    lst = [x for x in s]\n",
    "    for i in range(0,len(s)-1,2):\n",
    "        lst[i],lst[i+1] = lst[i+1],lst[i]\n",
    "    print(''.join(lst))\n",
    "\n",
    "unmix('lPaeesh le pemu mnxit ehess rtnisg!')"
   ]
  }
 ],
 "metadata": {
  "kernelspec": {
   "display_name": "Python 3",
   "language": "python",
   "name": "python3"
  },
  "language_info": {
   "codemirror_mode": {
    "name": "ipython",
    "version": 3
   },
   "file_extension": ".py",
   "mimetype": "text/x-python",
   "name": "python",
   "nbconvert_exporter": "python",
   "pygments_lexer": "ipython3",
   "version": "3.8.5"
  }
 },
 "nbformat": 4,
 "nbformat_minor": 4
}
