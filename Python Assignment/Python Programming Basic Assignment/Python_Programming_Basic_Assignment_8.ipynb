{
  "nbformat": 4,
  "nbformat_minor": 0,
  "metadata": {
    "colab": {
      "name": "Python Programming Basic Assignment_8.ipynb",
      "provenance": [],
      "collapsed_sections": []
    },
    "kernelspec": {
      "name": "python3",
      "display_name": "Python 3"
    },
    "language_info": {
      "name": "python"
    }
  },
  "cells": [
    {
      "cell_type": "markdown",
      "metadata": {
        "id": "mi7aTD8Da7Ut"
      },
      "source": [
        "1. Write a Python Program to Add Two Matrices?\n"
      ]
    },
    {
      "cell_type": "code",
      "metadata": {
        "id": "2M6iRmWswa-_"
      },
      "source": [
        "a = [[1,2,3],\n",
        "    [4,5,6],\n",
        "    [7,8,9]]\n",
        "\n",
        "b = [[1,2,3],\n",
        "    [4,5,6],\n",
        "    [7,8,9]]\n",
        "\n",
        "result = [[0,0,0],\n",
        "         [0,0,0],\n",
        "         [0,0,0]]\n",
        "\n",
        "for i in range(len(a)):\n",
        "   for j in range(len(a[0])):\n",
        "       result[i][j] = a[i][j] + b[i][j]\n",
        "\n",
        "for r in result:\n",
        "   print(r)"
      ],
      "execution_count": null,
      "outputs": []
    },
    {
      "cell_type": "markdown",
      "metadata": {
        "id": "DnxKEtbhwWUS"
      },
      "source": [
        "2. Write a Python Program to Multiply Two Matrices?\n"
      ]
    },
    {
      "cell_type": "code",
      "metadata": {
        "id": "sG3eNxH1JZoh"
      },
      "source": [
        "X = [[12,7,3],\n",
        "    [4 ,5,6],\n",
        "    [7 ,8,9]]\n",
        "Y = [[5,8,1,2],\n",
        "    [6,7,3,0],\n",
        "    [4,5,9,1]]\n",
        "result = [[0,0,0,0],\n",
        "         [0,0,0,0],\n",
        "         [0,0,0,0]]\n",
        "for i in range(len(X)):\n",
        "   for j in range(len(Y[0])):\n",
        "       for k in range(len(Y)):\n",
        "           result[i][j] += X[i][k] * Y[k][j]\n",
        "for r in result:\n",
        "   print(r)"
      ],
      "execution_count": null,
      "outputs": []
    },
    {
      "cell_type": "markdown",
      "metadata": {
        "id": "5tDr6Mk4wXpR"
      },
      "source": [
        "3. Write a Python Program to Transpose a Matrix?\n"
      ]
    },
    {
      "cell_type": "code",
      "metadata": {
        "colab": {
          "base_uri": "https://localhost:8080/"
        },
        "id": "OhiaNMlGRZ4S",
        "outputId": "0115d25e-8f30-4de4-c494-efd8c7c3a41d"
      },
      "source": [
        "X = [[1,2],\n",
        "    [3 ,4],\n",
        "    [5 ,6]]\n",
        "\n",
        "result = [[0,0,0],\n",
        "         [0,0,0]]\n",
        "\n",
        "for i in range(len(X)):\n",
        "   for j in range(len(X[0])):\n",
        "       result[j][i] = X[i][j]\n",
        "\n",
        "for r in result:\n",
        "   print(r)"
      ],
      "execution_count": 1,
      "outputs": [
        {
          "output_type": "stream",
          "text": [
            "[1, 3, 5]\n",
            "[2, 4, 6]\n"
          ],
          "name": "stdout"
        }
      ]
    },
    {
      "cell_type": "markdown",
      "metadata": {
        "id": "ey2Sh7SUwY-Y"
      },
      "source": [
        "4. Write a Python Program to Sort Words in Alphabetic Order?\n"
      ]
    },
    {
      "cell_type": "code",
      "metadata": {
        "id": "u4_UPuzCwz_5"
      },
      "source": [
        "my_str = input(\"Enter a string: \")\n",
        "words = [word.lower() for word in my_str.split()]\n",
        "words.sort()\n",
        "print(\"The sorted words are:\")\n",
        "for word in words:\n",
        "   print(word)"
      ],
      "execution_count": null,
      "outputs": []
    },
    {
      "cell_type": "markdown",
      "metadata": {
        "id": "THp1r9_2waK0"
      },
      "source": [
        "5. Write a Python Program to Remove Punctuation From a String?"
      ]
    },
    {
      "cell_type": "code",
      "metadata": {
        "id": "jhQaaX7Pw9ZJ"
      },
      "source": [
        "punctuations = '''!()-[]{};:'\"\\,<>./?@#$%^&*_~'''\n",
        "my_str = input(\"Enter a string: \")\n",
        "no_punct = \"\"\n",
        "for char in my_str:\n",
        "   if char not in punctuations:\n",
        "       no_punct = no_punct + char\n",
        "print(no_punct)"
      ],
      "execution_count": null,
      "outputs": []
    }
  ]
}