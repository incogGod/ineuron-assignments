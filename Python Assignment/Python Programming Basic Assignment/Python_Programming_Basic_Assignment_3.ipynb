{
  "nbformat": 4,
  "nbformat_minor": 0,
  "metadata": {
    "colab": {
      "name": "Python Programming Basic Assignment_3.ipynb",
      "provenance": []
    },
    "kernelspec": {
      "name": "python3",
      "display_name": "Python 3"
    },
    "language_info": {
      "name": "python"
    }
  },
  "cells": [
    {
      "cell_type": "markdown",
      "metadata": {
        "id": "o4ksmz2owuAP"
      },
      "source": [
        "### 1. Write a Python Program to Check if a Number is Positive, Negative or Zero?"
      ]
    },
    {
      "cell_type": "code",
      "metadata": {
        "id": "OzikiTuTwydG"
      },
      "source": [
        "try:\n",
        "  num = float(input('Enter number :'))\n",
        "  if num == 0:\n",
        "    print('Given number is zero')\n",
        "  elif num > 0:\n",
        "    print('Given number is positive')\n",
        "  else:\n",
        "    print('Given number is negative')\n",
        "except:\n",
        "  print('Invalid input')"
      ],
      "execution_count": null,
      "outputs": []
    },
    {
      "cell_type": "markdown",
      "metadata": {
        "id": "lp9_c6aUx89S"
      },
      "source": [
        "### 2. Write a Python Program to Check if a Number is Odd or Even?"
      ]
    },
    {
      "cell_type": "code",
      "metadata": {
        "id": "07VC0Fafxkt7"
      },
      "source": [
        "try:\n",
        "  num = int(input('Enter input :'))\n",
        "  if num%2 == 0:\n",
        "    print('Given number is even')\n",
        "  else:\n",
        "    print('Given number is odd')\n",
        "except:\n",
        "  print('Invalid input')"
      ],
      "execution_count": null,
      "outputs": []
    },
    {
      "cell_type": "markdown",
      "metadata": {
        "id": "wLBITtuuyzfm"
      },
      "source": [
        "### 3. Write a Python Program to Check Leap Year?"
      ]
    },
    {
      "cell_type": "code",
      "metadata": {
        "id": "S599ky-mynFO"
      },
      "source": [
        "try:\n",
        "  year = int(input('Enter year in YYYY format :'))\n",
        "  if year % 4 == 0:\n",
        "    if year % 100 ==0:\n",
        "      if year % 400 ==0:\n",
        "        print(year,'is a leap year.')\n",
        "      else:\n",
        "        print(year,'is not a leap year')\n",
        "    else:\n",
        "      print(year,'is a leap year.')\n",
        "  else:\n",
        "    print(year,'is not a leap year')\n",
        "except:\n",
        "  print('Invalid input')"
      ],
      "execution_count": null,
      "outputs": []
    },
    {
      "cell_type": "markdown",
      "metadata": {
        "id": "9jIBVG4H2eZg"
      },
      "source": [
        "### 4. Write a Python Program to Check Prime Number?"
      ]
    },
    {
      "cell_type": "code",
      "metadata": {
        "colab": {
          "base_uri": "https://localhost:8080/"
        },
        "id": "AMpf1FxCzxZS",
        "outputId": "50182bf4-f67c-4cda-8cae-dc65bb8e178a"
      },
      "source": [
        "\n",
        "num = int(input('Enter number :'))\n",
        "if num < 2:\n",
        "  print(num,'is not a prime number')\n",
        "  \n",
        "else:\n",
        "  flag = False\n",
        "  for i in range(2,round(num/2)+1):\n",
        "    if (num % i ==0):\n",
        "      flag = True\n",
        "      break\n",
        "  if flag == False:\n",
        "    print(num,'is a prime number')\n",
        "  else:\n",
        "    print(num,'is not a prime number')\n",
        "  "
      ],
      "execution_count": 4,
      "outputs": [
        {
          "output_type": "stream",
          "text": [
            "Enter number :100\n",
            "100 is not a prime number\n"
          ],
          "name": "stdout"
        }
      ]
    },
    {
      "cell_type": "markdown",
      "metadata": {
        "id": "XAbjYucQEb6C"
      },
      "source": [
        "### 5. Write a Python Program to Print all Prime Numbers in an Interval of 1-10000?"
      ]
    },
    {
      "cell_type": "code",
      "metadata": {
        "id": "hSJdChvq4yUI"
      },
      "source": [
        "for i in range(2,10001):\n",
        "  flag = False\n",
        "  for j in range(2,round(i/2)+1):\n",
        "    if i % j == 0:\n",
        "      flag = True\n",
        "      break\n",
        "  if flag == False:\n",
        "    print(i)\n",
        "      "
      ],
      "execution_count": null,
      "outputs": []
    },
    {
      "cell_type": "code",
      "metadata": {
        "id": "9MJ2PeFrFdP3"
      },
      "source": [
        ""
      ],
      "execution_count": null,
      "outputs": []
    }
  ]
}