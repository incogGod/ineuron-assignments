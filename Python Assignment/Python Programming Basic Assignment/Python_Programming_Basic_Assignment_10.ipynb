{
  "nbformat": 4,
  "nbformat_minor": 0,
  "metadata": {
    "colab": {
      "name": "Python Programming Basic Assignment_10.ipynb",
      "provenance": [],
      "collapsed_sections": []
    },
    "kernelspec": {
      "name": "python3",
      "display_name": "Python 3"
    },
    "language_info": {
      "name": "python"
    }
  },
  "cells": [
    {
      "cell_type": "markdown",
      "metadata": {
        "id": "0jV6BovMtCg8"
      },
      "source": [
        "1. Write a Python program to find sum of elements in list?\n"
      ]
    },
    {
      "cell_type": "code",
      "metadata": {
        "id": "lEaT_WBO9Ckx"
      },
      "source": [
        "arr =[]\n",
        "sum = 0\n",
        "n = int(input('Enter number of elements in list :'))\n",
        "for i in range(n):\n",
        "  v = float(input('Enter elements (numbers) :'))\n",
        "  arr.append(v)\n",
        "for i in arr:\n",
        "  sum = sum + i\n",
        "print('Sum is',sum)\n"
      ],
      "execution_count": null,
      "outputs": []
    },
    {
      "cell_type": "markdown",
      "metadata": {
        "id": "wnUR8N8LxXRo"
      },
      "source": [
        "2. Write a Python program to Multiply all numbers in the list?\n"
      ]
    },
    {
      "cell_type": "code",
      "metadata": {
        "id": "2W8egKdP-HCC"
      },
      "source": [
        "arr =[]\n",
        "mul = 1\n",
        "n = int(input('Enter number of elements in list :'))\n",
        "for i in range(n):\n",
        "  v = float(input('Enter elements (numbers) :'))\n",
        "  arr.append(v)\n",
        "for i in arr:\n",
        "  mul = mul * i\n",
        "print('Products is',mul)"
      ],
      "execution_count": null,
      "outputs": []
    },
    {
      "cell_type": "markdown",
      "metadata": {
        "id": "bhJbrZsvxa9s"
      },
      "source": [
        "3. Write a Python program to find smallest number in a list?\n"
      ]
    },
    {
      "cell_type": "code",
      "metadata": {
        "id": "ZmqHIduj-bjB"
      },
      "source": [
        "arr =[]\n",
        "n = int(input('Enter number of elements in list :'))\n",
        "for i in range(n):\n",
        "  v = float(input('Enter elements (numbers) :'))\n",
        "  arr.append(v)\n",
        "s = min(arr)\n",
        "print(s)"
      ],
      "execution_count": null,
      "outputs": []
    },
    {
      "cell_type": "markdown",
      "metadata": {
        "id": "4hX67TdfxhA3"
      },
      "source": [
        "4. Write a Python program to find largest number in a list?\n"
      ]
    },
    {
      "cell_type": "code",
      "metadata": {
        "id": "fXP8IcW9-n5v"
      },
      "source": [
        "arr =[]\n",
        "n = int(input('Enter number of elements in list :'))\n",
        "for i in range(n):\n",
        "  v = float(input('Enter elements (numbers) :'))\n",
        "  arr.append(v)\n",
        "s = max(arr)\n",
        "print(s)"
      ],
      "execution_count": null,
      "outputs": []
    },
    {
      "cell_type": "markdown",
      "metadata": {
        "id": "z0-LrZlXxjFe"
      },
      "source": [
        "5. Write a Python program to find second largest number in a list?\n"
      ]
    },
    {
      "cell_type": "code",
      "metadata": {
        "id": "DS3XTQhcf8Dg"
      },
      "source": [
        "arr =[]\n",
        "n = int(input('Enter number of elements in list :'))\n",
        "for i in range(n):\n",
        "  v = float(input('Enter elements (numbers) :'))\n",
        "  arr.append(v)\n",
        "s = sorted(arr)\n",
        "print('second largest is',s[-2])\n"
      ],
      "execution_count": null,
      "outputs": []
    },
    {
      "cell_type": "markdown",
      "metadata": {
        "id": "WqG1vFFnxoqs"
      },
      "source": [
        "6. Write a Python program to find N largest elements from a list?\n",
        "\n"
      ]
    },
    {
      "cell_type": "code",
      "metadata": {
        "id": "8bsp_cJYgnXl"
      },
      "source": [
        "arr =[]\n",
        "n = int(input('Enter number of elements in list :'))\n",
        "for i in range(n):\n",
        "  v = float(input('Enter elements (numbers) :'))\n",
        "  arr.append(v)\n",
        "num = int(input('Enter number of largest numbers :'))\n",
        "s = sorted(arr)\n",
        "j = 1\n",
        "for j in range(1,num+1):\n",
        "  print(s[-j])\n",
        "  j += 1\n"
      ],
      "execution_count": null,
      "outputs": []
    },
    {
      "cell_type": "markdown",
      "metadata": {
        "id": "dBP4WsM_xq8Z"
      },
      "source": [
        "7. Write a Python program to print even numbers in a list?\n"
      ]
    },
    {
      "cell_type": "code",
      "metadata": {
        "id": "wvHD9bOuiAz3"
      },
      "source": [
        "arr =[]\n",
        "n = int(input('Enter number of elements in list :'))\n",
        "for i in range(n):\n",
        "  v = float(input('Enter elements (numbers) :'))\n",
        "  arr.append(v)\n",
        "\n",
        "for i in range(1,len(arr)):\n",
        "  if arr[i] % 2 == 0:\n",
        "    print(arr[i])"
      ],
      "execution_count": null,
      "outputs": []
    },
    {
      "cell_type": "markdown",
      "metadata": {
        "id": "-rQI6C3QxvHR"
      },
      "source": [
        "8. Write a Python program to print odd numbers in a List?\n"
      ]
    },
    {
      "cell_type": "code",
      "metadata": {
        "id": "LiTNa62Si-no"
      },
      "source": [
        "arr =[]\n",
        "n = int(input('Enter number of elements in list :'))\n",
        "for i in range(n):\n",
        "  v = float(input('Enter elements (numbers) :'))\n",
        "  arr.append(v)\n",
        "\n",
        "for i in range(1,len(arr)):\n",
        "  if arr[i] % 2 != 0:\n",
        "    print(arr[i])"
      ],
      "execution_count": null,
      "outputs": []
    },
    {
      "cell_type": "markdown",
      "metadata": {
        "id": "p3YFS2tpxxs3"
      },
      "source": [
        "9. Write a Python program to Remove empty List from List?\n"
      ]
    },
    {
      "cell_type": "code",
      "metadata": {
        "id": "uzfop_wKNDhh"
      },
      "source": [
        "arr = [1,2,3,[],1,1,2,[],3]\n",
        "for i in arr:\n",
        "  if i == []:\n",
        "    arr.remove([])\n",
        "print(arr)"
      ],
      "execution_count": null,
      "outputs": []
    },
    {
      "cell_type": "markdown",
      "metadata": {
        "id": "zP4QAdN8x0VT"
      },
      "source": [
        "10. Write a Python program to Cloning or Copying a list?\n"
      ]
    },
    {
      "cell_type": "code",
      "metadata": {
        "id": "2eAcs-Htl7jB"
      },
      "source": [
        "def clone(lst):\n",
        "    lst_copy =[]\n",
        "    lst_copy = lst.copy()\n",
        "    return lst_copy\n",
        "lst = [1,2,3]\n",
        "lst1 = clone(lst)\n",
        "print(\"Original List:\", lst)\n",
        "print(\"After Cloning:\", lst1)"
      ],
      "execution_count": null,
      "outputs": []
    },
    {
      "cell_type": "markdown",
      "metadata": {
        "id": "K_MwVq38x2e_"
      },
      "source": [
        "11. Write a Python program to Count occurrences of an element in a list?"
      ]
    },
    {
      "cell_type": "code",
      "metadata": {
        "id": "p5GRbd_Im1XQ"
      },
      "source": [
        "lst = [1,2,3,1,1,2,3]\n",
        "def count(lst,c):\n",
        "  x = lst.count(c) \n",
        "  return x\n",
        "count(lst,1)"
      ],
      "execution_count": null,
      "outputs": []
    }
  ]
}