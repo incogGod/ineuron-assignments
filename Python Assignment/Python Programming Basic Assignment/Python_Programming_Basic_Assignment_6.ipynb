{
  "nbformat": 4,
  "nbformat_minor": 0,
  "metadata": {
    "colab": {
      "name": "Python Programming Basic Assignment_6.ipynb",
      "provenance": [],
      "collapsed_sections": []
    },
    "kernelspec": {
      "name": "python3",
      "display_name": "Python 3"
    },
    "language_info": {
      "name": "python"
    }
  },
  "cells": [
    {
      "cell_type": "markdown",
      "metadata": {
        "id": "dYCawzIrCwsI"
      },
      "source": [
        "1. Write a Python Program to Display Fibonacci Sequence Using Recursion?\n"
      ]
    },
    {
      "cell_type": "code",
      "metadata": {
        "id": "L_wzYLl0C3jH"
      },
      "source": [
        "def fib(n):\n",
        "  if n <=1 :\n",
        "    return (n)\n",
        "  else:\n",
        "    return (fib(n-1) + fib(n-2))\n",
        "n = int(input('Enter number of terms :'))\n",
        "if i < 0:\n",
        "    print('Enter a positive integer')\n",
        "else:\n",
        "  for i in range (n):\n",
        "    print(fib(i))"
      ],
      "execution_count": null,
      "outputs": []
    },
    {
      "cell_type": "markdown",
      "metadata": {
        "id": "JFmD3LveCyaO"
      },
      "source": [
        "2. Write a Python Program to Find Factorial of Number Using Recursion?"
      ]
    },
    {
      "cell_type": "code",
      "metadata": {
        "colab": {
          "base_uri": "https://localhost:8080/"
        },
        "id": "jqI9e-TDa2Y6",
        "outputId": "d51daae0-2102-4646-f4e4-99e35f781ecc"
      },
      "source": [
        "def fact(n):\n",
        "  if n ==1:\n",
        "    return n\n",
        "  else:\n",
        "    return n * fact(n-1)\n",
        "n = int(input('Enter number :'))\n",
        "if n<0:\n",
        "  print('Please enter a natural number')\n",
        "elif n==0:\n",
        "  print(1)\n",
        "else:\n",
        "  print (fact(n))\n"
      ],
      "execution_count": 26,
      "outputs": [
        {
          "output_type": "stream",
          "text": [
            "Enter number :6\n",
            "720\n"
          ],
          "name": "stdout"
        }
      ]
    },
    {
      "cell_type": "markdown",
      "metadata": {
        "id": "8fOtWb_jCz3U"
      },
      "source": [
        "3. Write a Python Program to calculate your Body Mass Index?\n"
      ]
    },
    {
      "cell_type": "code",
      "metadata": {
        "id": "m5_-9VkBdYlB"
      },
      "source": [
        "w = float(input('Enter weight in kg :'))\n",
        "h = float(input('Enter height in meter :'))\n",
        "bmi = w/h**2\n",
        "print('BMI :',round(bmi,2))"
      ],
      "execution_count": null,
      "outputs": []
    },
    {
      "cell_type": "markdown",
      "metadata": {
        "id": "Rg1NIxTzC1Jx"
      },
      "source": [
        "4. Write a Python Program to calculate the natural logarithm of any number?\n"
      ]
    },
    {
      "cell_type": "code",
      "metadata": {
        "id": "UQnKljqWe36q"
      },
      "source": [
        "import math\n",
        "n = float(input('Enter number :'))\n",
        "print('natural log value is',math.log(n))"
      ],
      "execution_count": null,
      "outputs": []
    },
    {
      "cell_type": "markdown",
      "metadata": {
        "id": "aAjWEtx5C2jf"
      },
      "source": [
        "5. Write a Python Program for cube sum of first n natural numbers?"
      ]
    },
    {
      "cell_type": "code",
      "metadata": {
        "id": "HkqlQ1qjfy_U"
      },
      "source": [
        "n = int(input('Enter number :'))\n",
        "sum = 0\n",
        "for i in range(n+1):\n",
        "  sum = sum + i**3\n",
        "print(sum)\n"
      ],
      "execution_count": null,
      "outputs": []
    }
  ]
}