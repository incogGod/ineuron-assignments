{
  "nbformat": 4,
  "nbformat_minor": 0,
  "metadata": {
    "colab": {
      "name": "Python Programming Basic Assignment_9.ipynb",
      "provenance": [],
      "collapsed_sections": []
    },
    "kernelspec": {
      "name": "python3",
      "display_name": "Python 3"
    },
    "language_info": {
      "name": "python"
    }
  },
  "cells": [
    {
      "cell_type": "markdown",
      "metadata": {
        "id": "mDqDfnVqYFvo"
      },
      "source": [
        "1. Write a Python program to check if the given number is a Disarium Number?\n"
      ]
    },
    {
      "cell_type": "code",
      "metadata": {
        "id": "CizOqdLbYQRw"
      },
      "source": [
        "num = int(input('Enter a number :'))\n",
        "n = num\n",
        "m =num\n",
        "count = 0\n",
        "sum =0\n",
        "while n>0:\n",
        "  n = n//10\n",
        "  count += 1\n",
        "while count > 0:\n",
        "  rem = num % 10\n",
        "  sum = sum + rem**count\n",
        "  count -= 1\n",
        "  num = num // 10\n",
        "if sum == m:\n",
        "  print(m, 'is Disarium number.')\n",
        "else:\n",
        "  print(m, 'is not a Disarium number.')\n"
      ],
      "execution_count": null,
      "outputs": []
    },
    {
      "cell_type": "markdown",
      "metadata": {
        "id": "SnsUBapEYJ8t"
      },
      "source": [
        "2. Write a Python program to print all disarium numbers between 1 to 100?\n"
      ]
    },
    {
      "cell_type": "code",
      "metadata": {
        "id": "BRYNEkEHoWr6"
      },
      "source": [
        "for num in range (1,101):\n",
        "  n = num\n",
        "  m =num\n",
        "  count = 0\n",
        "  sum =0\n",
        "  while n>0:\n",
        "    n = n//10\n",
        "    count += 1\n",
        "  while count > 0:\n",
        "   rem = num % 10\n",
        "   sum = sum + rem**count\n",
        "   count -= 1\n",
        "   num = num // 10\n",
        "  if sum == m:\n",
        "    print(m)\n"
      ],
      "execution_count": null,
      "outputs": []
    },
    {
      "cell_type": "markdown",
      "metadata": {
        "id": "wr1cK4HuYLNi"
      },
      "source": [
        "3. Write a Python program to check if the given number is Happy Number?\n"
      ]
    },
    {
      "cell_type": "code",
      "metadata": {
        "id": "WaripvtCpsmi"
      },
      "source": [
        "def happynum(num):\n",
        "  sum,rem = 0,0\n",
        "  while num>0:\n",
        "    rem = num % 10\n",
        "    sum = sum + rem**2\n",
        "    num = num // 10\n",
        "  return sum\n",
        "num = int(input('Enter number :'))\n",
        "m = num\n",
        "while m != 1 and m != 4:\n",
        "  m = happynum(m)\n",
        "if m == 1:\n",
        "  print(num,'is a happy number')\n",
        "elif m ==4:\n",
        "  print(num,'is not happy number')"
      ],
      "execution_count": null,
      "outputs": []
    },
    {
      "cell_type": "markdown",
      "metadata": {
        "id": "0GGwfc_JYMcB"
      },
      "source": [
        "4. Write a Python program to print all happy numbers between 1 and 100?\n"
      ]
    },
    {
      "cell_type": "code",
      "metadata": {
        "id": "kaqFuXU-PH_f"
      },
      "source": [
        "def happynum(num):\n",
        "  sum,rem = 0,0\n",
        "  while num>0:\n",
        "    rem = num % 10\n",
        "    sum = sum + rem**2\n",
        "    num = num // 10\n",
        "  return sum\n",
        "flag = True\n",
        "for num in range(1,101):\n",
        "  m = num\n",
        "  while flag:\n",
        "    m = happynum(m)\n",
        "    if m == 1:\n",
        "      print(num)\n",
        "      break\n",
        "    elif m ==4:\n",
        "      break"
      ],
      "execution_count": null,
      "outputs": []
    },
    {
      "cell_type": "markdown",
      "metadata": {
        "id": "QRbrRH84YNfK"
      },
      "source": [
        "5. Write a Python program to determine whether the given number is a Harshad Number?\n"
      ]
    },
    {
      "cell_type": "code",
      "metadata": {
        "id": "HFrfiau-9uGb"
      },
      "source": [
        "def harshad(num):\n",
        "  rem,sum =0,0\n",
        "  while num>0:\n",
        "    rem = num % 10\n",
        "    sum = sum + rem\n",
        "    num = num // 10\n",
        "  return sum\n",
        "num = int(input('Enter number :'))\n",
        "t = harshad(num)\n",
        "if num%t ==0:\n",
        "  print(num,'is a Harshad number')\n",
        "else:\n",
        "  print(num,'is not a Harshad number')"
      ],
      "execution_count": null,
      "outputs": []
    },
    {
      "cell_type": "markdown",
      "metadata": {
        "id": "w7XrOvQeYOx6"
      },
      "source": [
        "6. Write a Python program to print all pronic numbers between 1 and 100?"
      ]
    },
    {
      "cell_type": "code",
      "metadata": {
        "id": "pJwqV9nkDXUW"
      },
      "source": [
        "def pronic(num):\n",
        "  x = 0\n",
        "  while x<= (num):\n",
        "    n = x * (x+1)\n",
        "    x= x+1\n",
        "    if n == num:\n",
        "      print (num)\n",
        "for i in range(101):\n",
        "  pronic(i)"
      ],
      "execution_count": null,
      "outputs": []
    }
  ]
}