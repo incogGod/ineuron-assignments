{
  "nbformat": 4,
  "nbformat_minor": 0,
  "metadata": {
    "colab": {
      "name": "Python Programming Basic Assignment_7.ipynb",
      "provenance": [],
      "collapsed_sections": []
    },
    "kernelspec": {
      "name": "python3",
      "display_name": "Python 3"
    },
    "language_info": {
      "name": "python"
    }
  },
  "cells": [
    {
      "cell_type": "markdown",
      "metadata": {
        "id": "fX6LiKtgiGAw"
      },
      "source": [
        "1. Write a Python Program to find sum of array?\n"
      ]
    },
    {
      "cell_type": "code",
      "metadata": {
        "id": "cYf6ddjMiLnt"
      },
      "source": [
        "n =int(input('Enter number of terms in array :'))\n",
        "arr = []\n",
        "for i in range(n):\n",
        "  val = float(input('Enter value :'))\n",
        "  arr.append(val)\n",
        "sum = 0\n",
        "for i in range (n):\n",
        "  sum = sum + arr[i]\n",
        "print('Sum is :',sum)"
      ],
      "execution_count": null,
      "outputs": []
    },
    {
      "cell_type": "markdown",
      "metadata": {
        "id": "ecREYfXNiHnX"
      },
      "source": [
        "2. Write a Python Program to find largest element in an array?\n"
      ]
    },
    {
      "cell_type": "code",
      "metadata": {
        "id": "H6di5Y_vjtP4"
      },
      "source": [
        "n =int(input('Enter number of terms in array :'))\n",
        "arr = []\n",
        "for i in range(n):\n",
        "  val = float(input('Enter value :'))\n",
        "  arr.append(val)\n",
        "big = 0\n",
        "for i in arr:\n",
        "  if i>big:\n",
        "    big = i\n",
        "print('Largest element is :',big)\n"
      ],
      "execution_count": null,
      "outputs": []
    },
    {
      "cell_type": "markdown",
      "metadata": {
        "id": "yf8oD-4xiI12"
      },
      "source": [
        "3. Write a Python Program for array rotation?\n"
      ]
    },
    {
      "cell_type": "code",
      "metadata": {
        "id": "9-vCFQcRk3nh"
      },
      "source": [
        "#performing left rotaions\n",
        "arr = []\n",
        "n = int(input('Enter number of elements :'))\n",
        "r = int(input('Enter number of rotarions'))\n",
        "\n",
        "for i in range(n):\n",
        "  val = input('Enter elements of list :')\n",
        "  arr.append(val)\n",
        "\n",
        "for i in range(1,r+1):\n",
        "  zero = arr[0]\n",
        "  for j in range(n-1):\n",
        "    arr[j] = arr [j+1]\n",
        "  arr[n-1] = zero\n",
        "print(arr)"
      ],
      "execution_count": null,
      "outputs": []
    },
    {
      "cell_type": "markdown",
      "metadata": {
        "id": "bfh1CzdDiJ5V"
      },
      "source": [
        "4. Write a Python Program to Split the array and add the first part to the end?\n"
      ]
    },
    {
      "cell_type": "code",
      "metadata": {
        "id": "aeIy1pQwYw1f"
      },
      "source": [
        "arr = []\n",
        "n = int(input('Enter number of elements :'))\n",
        "r = int(input('Enter number of positions to split from left'))\n",
        "\n",
        "for i in range(n):\n",
        "  val = input('Enter elements of list :')\n",
        "  arr.append(val)\n",
        "\n",
        "for i in range(1,r+1):\n",
        "  zero = arr[0]\n",
        "  for j in range(n-1):\n",
        "    arr[j] = arr [j+1]\n",
        "  arr[n-1] = zero\n",
        "print(arr)"
      ],
      "execution_count": null,
      "outputs": []
    },
    {
      "cell_type": "markdown",
      "metadata": {
        "id": "F-n7o-V-iK5z"
      },
      "source": [
        "5. Write a Python Program to check if given array is Monotonic?"
      ]
    },
    {
      "cell_type": "code",
      "metadata": {
        "id": "qphQ1ZKBXDXF"
      },
      "source": [
        "def mono(A):  \n",
        "    return (all(A[i] <= A[i + 1] for i in range(len(A) - 1)) or\n",
        "            all(A[i] >= A[i + 1] for i in range(len(A) - 1)))\n",
        "A = []\n",
        "n = int(input('Number of elements :'))\n",
        "for i in range (n):\n",
        "  val = input('Enter elements of list :')\n",
        "  A.append(val)\n",
        "\n",
        "mono(A)"
      ],
      "execution_count": null,
      "outputs": []
    }
  ]
}