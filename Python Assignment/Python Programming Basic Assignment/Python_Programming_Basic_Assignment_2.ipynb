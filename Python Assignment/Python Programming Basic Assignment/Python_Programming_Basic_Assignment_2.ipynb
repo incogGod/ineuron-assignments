{
  "nbformat": 4,
  "nbformat_minor": 0,
  "metadata": {
    "colab": {
      "name": "Python Programming Basic Assignment_2.ipynb",
      "provenance": []
    },
    "kernelspec": {
      "name": "python3",
      "display_name": "Python 3"
    },
    "language_info": {
      "name": "python"
    }
  },
  "cells": [
    {
      "cell_type": "markdown",
      "metadata": {
        "id": "ouOpNiE9nWWJ"
      },
      "source": [
        "### 1. Write a Python program to convert kilometers to miles?"
      ]
    },
    {
      "cell_type": "code",
      "metadata": {
        "id": "7haAL5ENnZ_s"
      },
      "source": [
        "try:\n",
        "  kilo = float(input('Enter distance in kilometers :'))\n",
        "  print(round(kilo*0.621,2) , 'miles')\n",
        "except:\n",
        "  print('Invalid input')"
      ],
      "execution_count": null,
      "outputs": []
    },
    {
      "cell_type": "markdown",
      "metadata": {
        "id": "FQBlGWkIoU6Y"
      },
      "source": [
        "### 2. Write a Python program to convert Celsius to Fahrenheit?"
      ]
    },
    {
      "cell_type": "code",
      "metadata": {
        "id": "eXUs70-HpBDj"
      },
      "source": [
        "celsius = float(input('Enter temparature in celsius :'))\n",
        "print('The given temparature is {} °F'.format(celsius*(9/5)+32))"
      ],
      "execution_count": null,
      "outputs": []
    },
    {
      "cell_type": "markdown",
      "metadata": {
        "id": "hpzc6VL5qrVH"
      },
      "source": [
        "### 3. Write a Python program to display calendar?"
      ]
    },
    {
      "cell_type": "code",
      "metadata": {
        "id": "g9FPMtOYqtPz"
      },
      "source": [
        "try:\n",
        "  import calendar\n",
        "  y = int(input('Enter year as YYYY :')) \n",
        "  m = int(input('Enter month as MM :'))\n",
        "  print(calendar.month(y,m))\n",
        "except:\n",
        "  print('Invalid input')"
      ],
      "execution_count": null,
      "outputs": []
    },
    {
      "cell_type": "markdown",
      "metadata": {
        "id": "KxevQkhQsMaf"
      },
      "source": [
        "### 4. Write a Python program to solve quadratic equation?"
      ]
    },
    {
      "cell_type": "code",
      "metadata": {
        "id": "FCMOxc2csNp0"
      },
      "source": [
        "a = float(input('Enter value of a in the standard for of quadratic eqn :'))\n",
        "b = float(input('Enter value of b in the standard for of quadratic eqn :'))\n",
        "c = float(input('Enter value of c in the standard for of quadratic eqn :'))\n",
        "d = (b**2)-4*a*c\n",
        "sol1 = (-b + d**.5)/2*a\n",
        "sol2 = (-b - d**.5)/2*a\n",
        "print('The solutions of the equation are {} and {}'.format(sol1,sol2))"
      ],
      "execution_count": null,
      "outputs": []
    },
    {
      "cell_type": "markdown",
      "metadata": {
        "id": "G6TfbEZzoYuw"
      },
      "source": [
        "### 5. Write a Python program to swap two variables without temp variable?"
      ]
    },
    {
      "cell_type": "code",
      "metadata": {
        "id": "DJW2mVKbn9ED"
      },
      "source": [
        "x = input()\n",
        "y = input()\n",
        "x,y = y,x\n",
        "print('Swapped values of variables for X and Y are {} and {}'.format(x,y))"
      ],
      "execution_count": null,
      "outputs": []
    },
    {
      "cell_type": "code",
      "metadata": {
        "id": "cifx6ZbFvIbH"
      },
      "source": [
        ""
      ],
      "execution_count": null,
      "outputs": []
    }
  ]
}