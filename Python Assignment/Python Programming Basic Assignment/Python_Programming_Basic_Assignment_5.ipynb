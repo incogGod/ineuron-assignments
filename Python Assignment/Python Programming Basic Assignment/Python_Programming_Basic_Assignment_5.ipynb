{
  "nbformat": 4,
  "nbformat_minor": 0,
  "metadata": {
    "colab": {
      "name": "Python Programming Basic Assignment_5.ipynb",
      "provenance": [],
      "collapsed_sections": []
    },
    "kernelspec": {
      "name": "python3",
      "display_name": "Python 3"
    },
    "language_info": {
      "name": "python"
    }
  },
  "cells": [
    {
      "cell_type": "markdown",
      "metadata": {
        "id": "joCz74K5FC1n"
      },
      "source": [
        "1. Write a Python Program to Find LCM?"
      ]
    },
    {
      "cell_type": "code",
      "metadata": {
        "id": "3_93rxd_Fr63"
      },
      "source": [
        "num1 = int(input('Enter number1 :'))\n",
        "num2 = int(input('Enter number2 :'))\n",
        "if num1>num2:\n",
        "  great = num1\n",
        "else:\n",
        "  great = num2\n",
        "while True:\n",
        "  if great%num1 ==0 and great%num2 ==0:\n",
        "    lcm =great\n",
        "    break\n",
        "  great += 1\n",
        "print('LCM is',lcm)\n"
      ],
      "execution_count": null,
      "outputs": []
    },
    {
      "cell_type": "markdown",
      "metadata": {
        "id": "RZ5Js57KFZoV"
      },
      "source": [
        "2. Write a Python Program to Find HCF?"
      ]
    },
    {
      "cell_type": "code",
      "metadata": {
        "id": "I-J92EdfEphq"
      },
      "source": [
        "try:\n",
        "  num1 = int(input('Enter num1 :'))\n",
        "  num2 = int(input('Enter num2 :'))\n",
        "  if num1>num2:\n",
        "    small = num2\n",
        "  else:\n",
        "    small = num1\n",
        "  for i in range(1,small+1):\n",
        "    if (num1%i) == 0 and (num2%i) ==0:\n",
        "      hcf = i\n",
        "  print('HCF is',hcf)\n",
        "except:\n",
        "  print('Invalid input')"
      ],
      "execution_count": null,
      "outputs": []
    },
    {
      "cell_type": "markdown",
      "metadata": {
        "id": "pgSkguE1Fbz8"
      },
      "source": [
        "3. Write a Python Program to Convert Decimal to Binary, Octal and Hexadecimal?"
      ]
    },
    {
      "cell_type": "code",
      "metadata": {
        "id": "yMZ7B5L_JX19"
      },
      "source": [
        "dec = int(input('Enter number :'))\n",
        "print(\"\"\"Binary =\"\"\",bin(dec))\n",
        "print(\"Octal =\",oct(dec))\n",
        "print(\"Hexadecimal =\",hex(dec))"
      ],
      "execution_count": null,
      "outputs": []
    },
    {
      "cell_type": "markdown",
      "metadata": {
        "id": "80G6jm7lFedi"
      },
      "source": [
        "4. Write a Python Program To Find ASCII value of a character?"
      ]
    },
    {
      "cell_type": "code",
      "metadata": {
        "id": "QaA1ll7ULGKB"
      },
      "source": [
        "char = input()\n",
        "print('ASCII value is',ord(char))"
      ],
      "execution_count": null,
      "outputs": []
    },
    {
      "cell_type": "markdown",
      "metadata": {
        "id": "lqsLiL4AFgS3"
      },
      "source": [
        "5. Write a Python Program to Make a Simple Calculator with 4 basic mathematical operations?"
      ]
    },
    {
      "cell_type": "code",
      "metadata": {
        "id": "K3fWT9Sj77sY"
      },
      "source": [
        "print(\"\"\"Basic Calculator - Select operation\n",
        "Addition : +\n",
        "Subtraction: -\n",
        "Multiplication : *\n",
        "Division : /\"\"\")\n",
        "op = input()\n",
        "if op in ['+','*','/','-']:\n",
        "  one = float(input('type number 1 :'))\n",
        "  two = float(input('type number 2 :'))\n",
        "  if op == '+':\n",
        "    print('Sum =',one+two)\n",
        "  if op =='-':\n",
        "    print('Result =',one-two)\n",
        "  if op == '*':\n",
        "    print('Product =',one*two)\n",
        "  if op == '/':\n",
        "    print('Result =',one/two)\n",
        "else:\n",
        "  print('Invalid input')"
      ],
      "execution_count": null,
      "outputs": []
    }
  ]
}