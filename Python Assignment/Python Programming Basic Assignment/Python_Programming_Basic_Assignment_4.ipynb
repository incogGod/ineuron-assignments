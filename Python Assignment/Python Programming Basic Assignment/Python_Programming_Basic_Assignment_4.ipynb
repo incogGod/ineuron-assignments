{
  "nbformat": 4,
  "nbformat_minor": 0,
  "metadata": {
    "colab": {
      "name": "Python Programming Basic Assignment_4.ipynb",
      "provenance": [],
      "collapsed_sections": []
    },
    "kernelspec": {
      "name": "python3",
      "display_name": "Python 3"
    },
    "language_info": {
      "name": "python"
    }
  },
  "cells": [
    {
      "cell_type": "markdown",
      "metadata": {
        "id": "9RtZpHsYUcTn"
      },
      "source": [
        "### 1. Write a Python Program to Find the Factorial of a Number?"
      ]
    },
    {
      "cell_type": "code",
      "metadata": {
        "id": "ZDC1T6qMUzwI"
      },
      "source": [
        "try:\n",
        "  num = int(input('Enter a natural number :'))\n",
        "  if num < 0:\n",
        "    print('No factorial for negatives')\n",
        "  else:\n",
        "    fact = 1\n",
        "    while num > 1:\n",
        "      fact = fact * num\n",
        "      num = num -1\n",
        "    print(fact)\n",
        "except:\n",
        "  print('Invalid input')"
      ],
      "execution_count": null,
      "outputs": []
    },
    {
      "cell_type": "markdown",
      "metadata": {
        "id": "qfDrIN3WXfAd"
      },
      "source": [
        "### 2. Write a Python Program to Display the multiplication Table?"
      ]
    },
    {
      "cell_type": "code",
      "metadata": {
        "id": "bXyWpKsvWbdI"
      },
      "source": [
        "num = int(input('Enter a natural number :'))\n",
        "for i in range(1,11):\n",
        "  print(num,'x',i,'=',num*i)"
      ],
      "execution_count": null,
      "outputs": []
    },
    {
      "cell_type": "markdown",
      "metadata": {
        "id": "ByUaDyjSYSoR"
      },
      "source": [
        "### 3. Write a Python Program to Print the Fibonacci sequence?"
      ]
    },
    {
      "cell_type": "code",
      "metadata": {
        "id": "hvMy2UufYKXJ"
      },
      "source": [
        "count = int(input('Enter number of terms :'))\n",
        "if count <= 0:\n",
        "  print('Please enter a positive integer !')\n",
        "elif count ==1:\n",
        "  print(0)\n",
        "else:\n",
        "  a = 0\n",
        "  b = 1\n",
        "  n = 2\n",
        "  print(a,'\\n',b,sep=\"\")\n",
        "  while n < count: \n",
        "    f = a + b\n",
        "    print(f)\n",
        "    a,b = b,f\n",
        "    n = n+1"
      ],
      "execution_count": null,
      "outputs": []
    },
    {
      "cell_type": "markdown",
      "metadata": {
        "id": "2pGBI3hMdPly"
      },
      "source": [
        "### 4. Write a Python Program to Check Armstrong Number?"
      ]
    },
    {
      "cell_type": "code",
      "metadata": {
        "id": "KPDkbps1cu8_"
      },
      "source": [
        "try:\n",
        "  n = int(input('Enter number :'))\n",
        "  num = n\n",
        "  sum = 0\n",
        "  m = num\n",
        "  c = 1\n",
        "  while num > 9:\n",
        "    num = num // 10\n",
        "    c += 1\n",
        "  while m >9:\n",
        "    sum = sum + (m%10)**c\n",
        "    m = m//10\n",
        "  sum = sum + m**c\n",
        "  if sum == n:\n",
        "    print(n,'is Amstrong number')\n",
        "  else:\n",
        "    print(n,'is not an Amstrong number')\n",
        "\n",
        "except:\n",
        "  print('Invalid input')"
      ],
      "execution_count": null,
      "outputs": []
    },
    {
      "cell_type": "markdown",
      "metadata": {
        "id": "8pA8UXE4zo8-"
      },
      "source": [
        "### 5. Write a Python Program to Find Armstrong Number in an Interval?"
      ]
    },
    {
      "cell_type": "code",
      "metadata": {
        "id": "VRdY3WxezqO6"
      },
      "source": [
        "try:\n",
        "  s = int(input('Enter start :'))\n",
        "  e = int(input('Enter end :'))\n",
        "  def ams(n):\n",
        "    c = len(str(n))\n",
        "    m  = n\n",
        "    sum = 0\n",
        "    while m>0 :\n",
        "      sum = sum + (m%10)**c\n",
        "      m = m//10\n",
        "    if sum == n:\n",
        "      print(n)\n",
        "  for n in range(s,e):\n",
        "    ams(n)\n",
        "\n",
        "except:\n",
        "  print('Invalid input')"
      ],
      "execution_count": null,
      "outputs": []
    },
    {
      "cell_type": "markdown",
      "metadata": {
        "id": "hwf4kgnczqiT"
      },
      "source": [
        "### 6. Write a Python Program to Find the Sum of Natural Numbers?"
      ]
    },
    {
      "cell_type": "code",
      "metadata": {
        "id": "Vh33DUvFztiT"
      },
      "source": [
        "num = int(input('Enter number :'))\n",
        "sum = 0\n",
        "for i in range(1,num+1):\n",
        "  sum= sum+i\n",
        "print('Sum is',sum)"
      ],
      "execution_count": null,
      "outputs": []
    }
  ]
}